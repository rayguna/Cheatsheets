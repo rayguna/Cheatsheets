{
 "cells": [
  {
   "cell_type": "markdown",
   "metadata": {},
   "source": [
    "### Data Science Cheatsheet\n",
    "\n",
    "#### Scope\n",
    "\n",
    "- This page summarizes various data science topics that are often used. \n",
    "- General Python or R code examples and tips are provided to help hit the ground running.  \n",
    "- Relevant links are also provided to implement specific applications.   \n",
    "- The topics are arranged in a logical manner starting from managing Python environment and ending with python best practice and a summary of a general Data Science framework.\n",
    "- This page is constantly being updated.\n",
    "- Note that there are more detailed cheatsheets available on these topics (e.g., https://www.analyticsvidhya.com/blog/2017/02/top-28-cheat-sheets-for-machine-learning-data-science-probability-sql-big-data/).\n",
    "\n",
    "#### 1. [Managing Python environments and packages](#section1)\n",
    "\n",
    "#### 2. [Data visualization tools](#section2)  \n",
    "    a. Matplotlib    \n",
    "    b. Seaborn    \n",
    "    c. Plotly    \n",
    "    d. Bokeh  \n",
    "\n",
    "#### 3. [Useful built-in Python modules](#section3)\n",
    "    a. Collections library\n",
    "    b. Datetime\n",
    "    c. Iterators and generators\n",
    "    \n",
    "#### 4. [Data processing](#section4)\n",
    "    a. Import data using python\n",
    "    b. Import data using numpy\n",
    "    c. Import data using pandas\n",
    "\n",
    "#### 5. [Data modeling](#section5)\n",
    "    a. Fit data using Scikitlearn\n",
    "    b. Fit data using Keras\n",
    "\n",
    "#### 6. [Statistics](#section6)\n",
    "    a. Common probability distribution functions\n",
    "    b. Classical Statistics\n",
    "    c. Bayesian Statistics\n",
    "\n",
    "#### 7. [Front-end](#section7)  \n",
    "    a. wxpython  \n",
    "    b. Flask\n",
    "    \n",
    "#### 8. [Deployment](#section8)\n",
    "    a. Pypi\n",
    "    b. Creating reproducible environments\n",
    "    \n",
    "#### 9. [Importing Data for practice from Keras and Scikitlearn](#section9)\n",
    "\n",
    "#### 10. [Data Science](#section10)  \n",
    "    I. Learning types    \n",
    "      a. Supervised learning  \n",
    "      b. Unsupervised learning  \n",
    "      c. Reinforcement learning (Q-learning)  \n",
    "      d. Machine Learning  \n",
    "      e. Deep Learning (neural network architectures and pretrained models)  \n",
    "    \n",
    "    II. Topics  \n",
    "      a. Image processing    \n",
    "      b. Text processing (string processing, regex, BeautifulSoup, NLP)    \n",
    "      https://www.pythonforbeginners.com/files/reading-and-writing-files-in-python\n",
    "      "
   ]
  },
  {
   "cell_type": "markdown",
   "metadata": {},
   "source": [
    "    \n",
    "      c. Time-series analysis    \n",
    "    \n",
    "    III. Data types  \n",
    "      a. Regression  \n",
    "      b. Classification  \n",
    "\n",
    "#### 11. [Functions, decorators, Object Oriented Programming (OOP)](#section11)\n",
    "    a. Functions\n",
    "    b. Decorators\n",
    "    c. OOP\n",
    "\n",
    "#### 12. [Python best practice](#section12)\n",
    "    a. Implementing PEP8 using Atom and Sublime Text IDEs\n",
    "    b. Tips: OOP and Python Design patterns\n",
    "    c. Pythonic scripts\n",
    "    d. Functional programming\n",
    "    e. modules and packages\n",
    "\n",
    "#### 13. [Summary: a general Data Science framework](#section13)  \n",
    "    a. Data Wrangling (Cleaning, formatting, organization)  \n",
    "    b. Data Transformation/normalization  \n",
    "    c. Data splitting into train, test, and validation set  \n",
    "    d. Data modeling  \n",
    "    e. Performance evaluation  \n",
    "    f. Deployment  \n",
    "\n",
    "***"
   ]
  },
  {
   "cell_type": "markdown",
   "metadata": {},
   "source": [
    "#### 1. Managing Python environments and packages [2-4] <a name=\"section1\"></a>\n",
    "Purpose:\n",
    "- To isolate dependencies of a specific project from other work.\n",
    "- To make your application easy to reproduce by others.\n",
    "- To ensure compatibility between packages for a particular application.\n",
    "\n",
    "There are two ways to create a new environment and subsequently install packages:  \n",
    "\n",
    "    i. Using anaconda: https://conda.io/docs/user-guide/tasks/manage-pkgs.html  \n",
    "    "
   ]
  },
  {
   "cell_type": "markdown",
   "metadata": {},
   "source": [
    "| Action | Command |\n",
    "|--------------------------------------------------------------------------------------|---------------------------------------------------------------------|\n",
    "| Create a new environment called myenv with python version 3.4 and a specific package | conda create -n myenv python=3.4 scipy=0.15.0 |\n",
    "| Create an environment from an environment.yml package | conda env create -f environment.yml |\n",
    "| Check that the environment is successfully created | conda env list |\n",
    "| Check installed packages within the activated environment | conda list |\n",
    "| Check if a specific package (e.g., scipy) is installed in an environment | conda list -n myenv scipy |\n",
    "| Install additional packages | conda install -c anaconda scipydeactivate (Windows) or source deactivate (macOS and Linux)  |\n",
    "| Install a list of packages from requirements.txt file | NA |\n",
    "| Delete an environment | NA |\n"
   ]
  },
  {
   "cell_type": "code",
   "execution_count": 29,
   "metadata": {
    "collapsed": true
   },
   "outputs": [],
   "source": [
    "#Here is an example of a myenv.yml file:\n",
    "\n",
    "#here is an  example of a requirements.txt file"
   ]
  },
  {
   "cell_type": "markdown",
   "metadata": {},
   "source": [
    "    ii. Using pip: https://packaging.python.org/guides/installing-using-pip-and-virtualenv/"
   ]
  },
  {
   "cell_type": "markdown",
   "metadata": {},
   "source": [
    "| Action | Command |\n",
    "|--------------------------------------------------------------------------------------|---------------------------------------------------------------------|\n",
    "| Update pip | py -m pip install --upgrade pip |\n",
    "| Install virtualenv - do this only once | • py -m pip install --user virtualenv (Windows) <br> • python3 -m pip install --user virtualenv (macOS and Linux) |\n",
    "| Create a new environment called myenv | • py -m virtualenv env (Windows) <br> • python3 -m virtualenv env (macOS and Linux)|\n",
    "| Delete an environment | NA |"
   ]
  },
  {
   "cell_type": "markdown",
   "metadata": {},
   "source": [
    "    iii. Working with an existing virtual environment"
   ]
  },
  {
   "cell_type": "markdown",
   "metadata": {},
   "source": [
    "| Action | Command |\n",
    "|--------------------------------------------------------------------------------------|---------------------------------------------------------------------|\n",
    "| Activate a newly created environment called myenv | activate myenv (Windows) or source activate myenv (macOS and Linux) |\n",
    "| Deactivate an active environment | deactivate (Windows) or source deactivate (macOS and Linux) |\n",
    "| Create a kernel of a newly created environment called myenv in jupyter notebook | NA |\n",
    "| Remove a kernel associated with an environment called my env from jupyter notebook | NA |"
   ]
  },
  {
   "cell_type": "markdown",
   "metadata": {},
   "source": [
    "#### 2. Data visualization tools <a name=\"section2\"></a>  \n",
    "Purpose:\n",
    "- To communicate data clearly and efficiently\n",
    "- To aid exploratory data analysis\n",
    "- To help discern correlations, patterns and trends that are otherwise undetected\n",
    "\n",
    "    a. Matplotlib (https://matplotlib.org/index.html)\n",
    "    "
   ]
  },
  {
   "cell_type": "code",
   "execution_count": 30,
   "metadata": {},
   "outputs": [
    {
     "data": {
      "image/png": "[encoded data removed]",
      "text/plain": [
       "<Figure size 288x216 with 1 Axes>"
      ]
     },
     "metadata": {},
     "output_type": "display_data"
    }
   ],
   "source": [
    "#plotting example using matplotlib\n",
    "import matplotlib.pyplot as plt\n",
    "\n",
    "#define x and y\n",
    "x=[i for i in range(50)]\n",
    "y=[j**2 for j in x]\n",
    "\n",
    "#create figure and define figure size\n",
    "plt.figure(figsize=(4,3))\n",
    "\n",
    "#generate a linear plot with defined color and symbols\n",
    "plt.plot(x,y, color='blue', label='Line')\n",
    "plt.scatter(x,y, color='red', marker=\"x\", s=50, label='Marker')\n",
    "plt.title('Quadratic function', fontweight='bold')\n",
    "plt.xlabel('x', fontsize=14)\n",
    "plt.ylabel('y', fontsize=14)\n",
    "plt.legend()\n",
    "plt.show()"
   ]
  },
  {
   "cell_type": "markdown",
   "metadata": {},
   "source": [
    "    b. Seaborn    "
   ]
  },
  {
   "cell_type": "code",
   "execution_count": 31,
   "metadata": {
    "collapsed": true
   },
   "outputs": [],
   "source": [
    "#plotting example using seaborn\n",
    "import seaborn as sns\n",
    "\n",
    "#generate random numbers\n",
    "import numpy as np\n",
    "np.random.seed(123)\n",
    "rand_x=np.random.normal(size=1000)"
   ]
  },
  {
   "cell_type": "code",
   "execution_count": 32,
   "metadata": {},
   "outputs": [
    {
     "name": "stderr",
     "output_type": "stream",
     "text": [
      "C:\\Anaconda2\\envs\\py35\\lib\\site-packages\\matplotlib\\axes\\_axes.py:6462: UserWarning: The 'normed' kwarg is deprecated, and has been replaced by the 'density' kwarg.\n",
      "  warnings.warn(\"The 'normed' kwarg is deprecated, and has been \"\n"
     ]
    },
    {
     "data": {
      "image/png": "[encoded data removed]",
      "text/plain": [
       "<Figure size 216x144 with 1 Axes>"
      ]
     },
     "metadata": {},
     "output_type": "display_data"
    }
   ],
   "source": [
    "#generate a histogram\n",
    "fig,ax=plt.subplots(figsize=(3,2))\n",
    "sns.distplot(rand_x, bins=30,kde=True, hist=True, ax=ax)\n",
    "plt.title('Plot of a Normal Distribution', fontweight='bold', fontsize=15)\n",
    "plt.xlabel('x', fontsize=12)\n",
    "plt.ylabel('y', fontsize=12)\n",
    "plt.show()"
   ]
  },
  {
   "cell_type": "markdown",
   "metadata": {},
   "source": [
    "    c. Plotly    \n",
    "    \n",
    "    "
   ]
  },
  {
   "cell_type": "markdown",
   "metadata": {},
   "source": [
    "    d. Bokeh  "
   ]
  },
  {
   "cell_type": "code",
   "execution_count": 33,
   "metadata": {
    "collapsed": true
   },
   "outputs": [],
   "source": [
    "#plotting example using bokeh\n",
    "\n",
    "from bokeh.plotting import figure, output_file, show\n",
    "import pandas as pd\n",
    "from bokeh.models import BoxSelectTool\n",
    "from bokeh.layouts import column\n",
    "from bokeh.plotting import figure, show\n",
    "from bokeh.models.widgets import Tabs, Panel\n",
    "\n",
    "plot = figure(tools=\"pan,wheel_zoom,box_zoom,reset\")\n",
    "plot.add_tools(BoxSelectTool(dimensions=\"width\"))\n",
    "\n",
    "#automatically activates toolbar\n",
    "plot.toolbar.active_scroll = \"auto\"\n",
    "\n",
    "\n",
    "output_file(\"Data/Bokeh_example1.html\") #output as a html file\n",
    "\n",
    "df=pd.read_csv('Data/Bokeh_Data.csv')\n",
    "#df.head() #check\n",
    "\n",
    "#Each panel stores two arrays: a linear data and a log transformed data   \n",
    "panels1 = []#store multiple panels as an array\n",
    "panels2 = []#store multiple panels as an array\n",
    "\n",
    "for axis_type in [\"linear\", \"log\"]:\n",
    "    #first dataset\n",
    "    #prepare figure\n",
    "    p1 = figure(plot_width=600, plot_height=400,\n",
    "                x_axis_label='X', \n",
    "                y_axis_label='Y',\n",
    "                y_axis_type=axis_type,\n",
    "                title=\"A Linear Plot\")\n",
    "\n",
    "    #specify datasets\n",
    "    p1.line(df.x,df.y1, line_width=2,line_color='red', legend='Series1')\n",
    "    # add a line renderer\n",
    "    p1.xaxis.axis_label_text_font_size = \"16pt\"\n",
    "    p1.xaxis.axis_label_text_font_style=\"bold\"\n",
    "    p1.yaxis.axis_label_text_font_size = \"16pt\"\n",
    "    p1.yaxis.axis_label_text_font_style=\"bold\"\n",
    "\n",
    "    panel1 = Panel(child=p1, title=axis_type)\n",
    "    panels1.append(panel1)\n",
    "\n",
    "    #second dataset\n",
    "    #prepare figure\n",
    "    p2 = figure(plot_width=600, plot_height=400,\n",
    "                x_axis_label='X', \n",
    "                y_axis_label='Y',\n",
    "                y_axis_type=axis_type,\n",
    "                title=\"A Quadratic Plot\")\n",
    "    \n",
    "    p2.line(df.x,df.y2, line_width=2,line_color='blue', legend='Series2')\n",
    "    # add a line renderer\n",
    "    p2.xaxis.axis_label_text_font_size = \"16pt\"\n",
    "    p2.xaxis.axis_label_text_font_style=\"bold\"\n",
    "    p2.yaxis.axis_label_text_font_size = \"16pt\"\n",
    "    p2.yaxis.axis_label_text_font_style=\"bold\"\n",
    "\n",
    "    panel2 = Panel(child=p2, title=axis_type)\n",
    "    panels2.append(panel2)\n",
    "\n",
    "p1_tabs = Tabs(tabs=panels1)\n",
    "p2_tabs = Tabs(tabs=panels2)\n",
    "\n",
    "#display data\n",
    "show(column(p1_tabs,p2_tabs))"
   ]
  },
  {
   "cell_type": "markdown",
   "metadata": {},
   "source": [
    "#### 3. Useful built-in Python modules <a name=\"section3\"></a>\n",
    "    a. Collections library\n",
    "    b. Datetime\n",
    "    c. Iterators and generators\n",
    "\n",
    "#### 4. Data processing <a name=\"section4\"></a>\n",
    "    a. Import data using python\n",
    "    b. Import data using numpy\n",
    "    c. Import data using pandas"
   ]
  },
  {
   "cell_type": "markdown",
   "metadata": {},
   "source": [
    "#### c1. A general workflow"
   ]
  },
  {
   "cell_type": "code",
   "execution_count": 34,
   "metadata": {},
   "outputs": [
    {
     "data": {
      "text/html": [
       "<div>\n",
       "<table border=\"1\" class=\"dataframe\">\n",
       "  <thead>\n",
       "    <tr style=\"text-align: right;\">\n",
       "      <th></th>\n",
       "      <th>x</th>\n",
       "      <th>y</th>\n",
       "    </tr>\n",
       "  </thead>\n",
       "  <tbody>\n",
       "    <tr>\n",
       "      <th>0</th>\n",
       "      <td>1.0</td>\n",
       "      <td>1.0</td>\n",
       "    </tr>\n",
       "    <tr>\n",
       "      <th>1</th>\n",
       "      <td>2.0</td>\n",
       "      <td>2.0</td>\n",
       "    </tr>\n",
       "    <tr>\n",
       "      <th>2</th>\n",
       "      <td>3.0</td>\n",
       "      <td>3.0</td>\n",
       "    </tr>\n",
       "    <tr>\n",
       "      <th>3</th>\n",
       "      <td>NaN</td>\n",
       "      <td>NaN</td>\n",
       "    </tr>\n",
       "    <tr>\n",
       "      <th>4</th>\n",
       "      <td>4.0</td>\n",
       "      <td>4.0</td>\n",
       "    </tr>\n",
       "    <tr>\n",
       "      <th>5</th>\n",
       "      <td>5.0</td>\n",
       "      <td>NaN</td>\n",
       "    </tr>\n",
       "  </tbody>\n",
       "</table>\n",
       "</div>"
      ],
      "text/plain": [
       "     x    y\n",
       "0  1.0  1.0\n",
       "1  2.0  2.0\n",
       "2  3.0  3.0\n",
       "3  NaN  NaN\n",
       "4  4.0  4.0\n",
       "5  5.0  NaN"
      ]
     },
     "execution_count": 34,
     "metadata": {},
     "output_type": "execute_result"
    }
   ],
   "source": [
    "#A general workflow of retrieving and skimming through data using pandas\n",
    "import pandas as pd\n",
    "\n",
    "#import data while specifying the delimiter as being tab separated and specifying the row number to use as the header\n",
    "df_general=pd.read_csv('Data/Pandas_general.csv', sep='\\t', header=0)\n",
    "#inspect data partially by specifying the top n number of rows \n",
    "df_general.head(6) "
   ]
  },
  {
   "cell_type": "code",
   "execution_count": 35,
   "metadata": {},
   "outputs": [
    {
     "name": "stdout",
     "output_type": "stream",
     "text": [
      "<class 'pandas.core.frame.DataFrame'>\n",
      "RangeIndex: 6 entries, 0 to 5\n",
      "Data columns (total 2 columns):\n",
      "x    5 non-null float64\n",
      "y    4 non-null float64\n",
      "dtypes: float64(2)\n",
      "memory usage: 176.0 bytes\n"
     ]
    },
    {
     "data": {
      "text/html": [
       "<div>\n",
       "<table border=\"1\" class=\"dataframe\">\n",
       "  <thead>\n",
       "    <tr style=\"text-align: right;\">\n",
       "      <th></th>\n",
       "      <th>A</th>\n",
       "      <th>B</th>\n",
       "    </tr>\n",
       "  </thead>\n",
       "  <tbody>\n",
       "    <tr>\n",
       "      <th>0</th>\n",
       "      <td>1.0</td>\n",
       "      <td>1.0</td>\n",
       "    </tr>\n",
       "    <tr>\n",
       "      <th>1</th>\n",
       "      <td>2.0</td>\n",
       "      <td>2.0</td>\n",
       "    </tr>\n",
       "    <tr>\n",
       "      <th>2</th>\n",
       "      <td>3.0</td>\n",
       "      <td>3.0</td>\n",
       "    </tr>\n",
       "    <tr>\n",
       "      <th>4</th>\n",
       "      <td>4.0</td>\n",
       "      <td>4.0</td>\n",
       "    </tr>\n",
       "  </tbody>\n",
       "</table>\n",
       "</div>"
      ],
      "text/plain": [
       "     A    B\n",
       "0  1.0  1.0\n",
       "1  2.0  2.0\n",
       "2  3.0  3.0\n",
       "4  4.0  4.0"
      ]
     },
     "execution_count": 35,
     "metadata": {},
     "output_type": "execute_result"
    }
   ],
   "source": [
    "#Assess contents data types, number of rows and columns, and number of missing data\n",
    "df_general.info()\n",
    "\n",
    "#get data statistics\n",
    "df_general.describe()\n",
    "\n",
    "#Remove missing data along the 0 axis (i.e., row) with dropna function\n",
    "df_general.dropna(axis=0, inplace=True)\n",
    "\n",
    "#rename columns\n",
    "df_general.columns=['A','B']\n",
    "\n",
    "df_general #check\n"
   ]
  },
  {
   "cell_type": "markdown",
   "metadata": {},
   "source": [
    "#### c2. Time-series data"
   ]
  },
  {
   "cell_type": "code",
   "execution_count": 36,
   "metadata": {},
   "outputs": [
    {
     "data": {
      "text/html": [
       "<div>\n",
       "<table border=\"1\" class=\"dataframe\">\n",
       "  <thead>\n",
       "    <tr style=\"text-align: right;\">\n",
       "      <th></th>\n",
       "      <th>Date</th>\n",
       "      <th>Open</th>\n",
       "      <th>High</th>\n",
       "      <th>Low</th>\n",
       "      <th>Close</th>\n",
       "      <th>Adj Close</th>\n",
       "      <th>Volume</th>\n",
       "    </tr>\n",
       "  </thead>\n",
       "  <tbody>\n",
       "    <tr>\n",
       "      <th>0</th>\n",
       "      <td>2018-10-01</td>\n",
       "      <td>2021.98999</td>\n",
       "      <td>2033.189941</td>\n",
       "      <td>2003.599976</td>\n",
       "      <td>2004.359985</td>\n",
       "      <td>2004.359985</td>\n",
       "      <td>3460500</td>\n",
       "    </tr>\n",
       "    <tr>\n",
       "      <th>1</th>\n",
       "      <td>2018-10-02</td>\n",
       "      <td>1999.98999</td>\n",
       "      <td>2013.390015</td>\n",
       "      <td>1965.770020</td>\n",
       "      <td>1971.310059</td>\n",
       "      <td>1971.310059</td>\n",
       "      <td>5400700</td>\n",
       "    </tr>\n",
       "  </tbody>\n",
       "</table>\n",
       "</div>"
      ],
      "text/plain": [
       "        Date        Open         High          Low        Close    Adj Close  \\\n",
       "0 2018-10-01  2021.98999  2033.189941  2003.599976  2004.359985  2004.359985   \n",
       "1 2018-10-02  1999.98999  2013.390015  1965.770020  1971.310059  1971.310059   \n",
       "\n",
       "    Volume  \n",
       "0  3460500  \n",
       "1  5400700  "
      ]
     },
     "execution_count": 36,
     "metadata": {},
     "output_type": "execute_result"
    }
   ],
   "source": [
    "#data is taken from https://finance.yahoo.com\n",
    "#import time-series data and recognize the date column as date\n",
    "df_amzn=pd.read_csv('Data/AMZN_123118.csv', parse_dates=['Date'])\n",
    "df_amzn.head(2)"
   ]
  },
  {
   "cell_type": "code",
   "execution_count": 37,
   "metadata": {},
   "outputs": [
    {
     "name": "stdout",
     "output_type": "stream",
     "text": [
      "<class 'pandas.core.frame.DataFrame'>\n",
      "RangeIndex: 62 entries, 0 to 61\n",
      "Data columns (total 7 columns):\n",
      "Date         62 non-null datetime64[ns]\n",
      "Open         62 non-null float64\n",
      "High         62 non-null float64\n",
      "Low          62 non-null float64\n",
      "Close        62 non-null float64\n",
      "Adj Close    62 non-null float64\n",
      "Volume       62 non-null int64\n",
      "dtypes: datetime64[ns](1), float64(5), int64(1)\n",
      "memory usage: 3.5 KB\n"
     ]
    }
   ],
   "source": [
    "#check to make sure that the Date column has the correct data type (i.e., datetime64[ns]).\n",
    "df_amzn.info()"
   ]
  },
  {
   "cell_type": "code",
   "execution_count": 38,
   "metadata": {},
   "outputs": [
    {
     "data": {
      "text/html": [
       "<div>\n",
       "<table border=\"1\" class=\"dataframe\">\n",
       "  <thead>\n",
       "    <tr style=\"text-align: right;\">\n",
       "      <th></th>\n",
       "      <th>Open</th>\n",
       "      <th>High</th>\n",
       "      <th>Low</th>\n",
       "      <th>Close</th>\n",
       "      <th>Adj Close</th>\n",
       "      <th>Volume</th>\n",
       "    </tr>\n",
       "    <tr>\n",
       "      <th>Date</th>\n",
       "      <th></th>\n",
       "      <th></th>\n",
       "      <th></th>\n",
       "      <th></th>\n",
       "      <th></th>\n",
       "      <th></th>\n",
       "    </tr>\n",
       "  </thead>\n",
       "  <tbody>\n",
       "    <tr>\n",
       "      <th>2018-10-31</th>\n",
       "      <td>1799.630865</td>\n",
       "      <td>1823.199564</td>\n",
       "      <td>1753.272610</td>\n",
       "      <td>1782.058265</td>\n",
       "      <td>1782.058265</td>\n",
       "      <td>7966121</td>\n",
       "    </tr>\n",
       "    <tr>\n",
       "      <th>2018-11-30</th>\n",
       "      <td>1622.323806</td>\n",
       "      <td>1653.718087</td>\n",
       "      <td>1593.102370</td>\n",
       "      <td>1625.483823</td>\n",
       "      <td>1625.483823</td>\n",
       "      <td>6632857</td>\n",
       "    </tr>\n",
       "    <tr>\n",
       "      <th>2018-12-31</th>\n",
       "      <td>1576.373325</td>\n",
       "      <td>1606.398336</td>\n",
       "      <td>1530.262221</td>\n",
       "      <td>1562.636108</td>\n",
       "      <td>1562.636108</td>\n",
       "      <td>8214155</td>\n",
       "    </tr>\n",
       "  </tbody>\n",
       "</table>\n",
       "</div>"
      ],
      "text/plain": [
       "                   Open         High          Low        Close    Adj Close  \\\n",
       "Date                                                                          \n",
       "2018-10-31  1799.630865  1823.199564  1753.272610  1782.058265  1782.058265   \n",
       "2018-11-30  1622.323806  1653.718087  1593.102370  1625.483823  1625.483823   \n",
       "2018-12-31  1576.373325  1606.398336  1530.262221  1562.636108  1562.636108   \n",
       "\n",
       "             Volume  \n",
       "Date                 \n",
       "2018-10-31  7966121  \n",
       "2018-11-30  6632857  \n",
       "2018-12-31  8214155  "
      ]
     },
     "execution_count": 38,
     "metadata": {},
     "output_type": "execute_result"
    }
   ],
   "source": [
    "#set Date as the index column\n",
    "df_amzn.set_index('Date', inplace=True)\n",
    "#change the date frequency from daily to monthly\n",
    "df_amzn_M=df_amzn.resample('M').mean()\n",
    "df_amzn_M #check\n",
    "\n",
    "#for the list of resampling frequencies, refer to: http://pandas.pydata.org/pandas-docs/stable/timeseries.html#up-and-downsampling\n",
    "#some common examples are as follows:\n",
    "#    -'T' = by minute\n",
    "#    -'H' = hourly\n",
    "#    -'D' = daily\n",
    "#    -'M' = monthly\n",
    "#    -'A' = yearly\n",
    "\n",
    "#if you don't have the date column set as the index column, you could resample by specifying the date column, i.e.:\n",
    "#    df.resample('M', on='Date')"
   ]
  },
  {
   "cell_type": "markdown",
   "metadata": {},
   "source": [
    "#### c3. Categorical data"
   ]
  },
  {
   "cell_type": "code",
   "execution_count": 39,
   "metadata": {
    "collapsed": true
   },
   "outputs": [],
   "source": [
    "#sort_values\n",
    "#reverse order\n",
    "#pivot table\n",
    "#groupby"
   ]
  },
  {
   "cell_type": "markdown",
   "metadata": {},
   "source": [
    "#### c4. Append data to a DataFrame using append, merge, join, and concat."
   ]
  },
  {
   "cell_type": "code",
   "execution_count": 40,
   "metadata": {},
   "outputs": [
    {
     "data": {
      "text/html": [
       "<div>\n",
       "<table border=\"1\" class=\"dataframe\">\n",
       "  <thead>\n",
       "    <tr style=\"text-align: right;\">\n",
       "      <th></th>\n",
       "      <th>x</th>\n",
       "      <th>y1</th>\n",
       "      <th>y2</th>\n",
       "      <th>y3</th>\n",
       "    </tr>\n",
       "  </thead>\n",
       "  <tbody>\n",
       "    <tr>\n",
       "      <th>0</th>\n",
       "      <td>1.0</td>\n",
       "      <td>1.0</td>\n",
       "      <td>2.0</td>\n",
       "      <td>3.0</td>\n",
       "    </tr>\n",
       "    <tr>\n",
       "      <th>1</th>\n",
       "      <td>2.0</td>\n",
       "      <td>2.0</td>\n",
       "      <td>4.0</td>\n",
       "      <td>6.0</td>\n",
       "    </tr>\n",
       "  </tbody>\n",
       "</table>\n",
       "</div>"
      ],
      "text/plain": [
       "     x   y1   y2   y3\n",
       "0  1.0  1.0  2.0  3.0\n",
       "1  2.0  2.0  4.0  6.0"
      ]
     },
     "execution_count": 40,
     "metadata": {},
     "output_type": "execute_result"
    }
   ],
   "source": [
    "df4=pd.DataFrame(columns=['x','y1','y2','y3']) #create a new dataframe with column names\n",
    "\n",
    "#i. append a dictionary\n",
    "dic={'x':[1,2],'y1':[1,2],'y2':[2,4],'y3':[3,6]}\n",
    "\n",
    "#append dataset to df4\n",
    "df4=df4.append(pd.DataFrame(dic))\n",
    "df4.head()"
   ]
  },
  {
   "cell_type": "code",
   "execution_count": 41,
   "metadata": {},
   "outputs": [
    {
     "data": {
      "text/html": [
       "<div>\n",
       "<table border=\"1\" class=\"dataframe\">\n",
       "  <thead>\n",
       "    <tr style=\"text-align: right;\">\n",
       "      <th></th>\n",
       "      <th>x</th>\n",
       "      <th>y1</th>\n",
       "      <th>y2</th>\n",
       "      <th>y3</th>\n",
       "    </tr>\n",
       "  </thead>\n",
       "  <tbody>\n",
       "    <tr>\n",
       "      <th>0</th>\n",
       "      <td>1.0</td>\n",
       "      <td>1.0</td>\n",
       "      <td>2.0</td>\n",
       "      <td>3.0</td>\n",
       "    </tr>\n",
       "    <tr>\n",
       "      <th>1</th>\n",
       "      <td>2.0</td>\n",
       "      <td>2.0</td>\n",
       "      <td>4.0</td>\n",
       "      <td>6.0</td>\n",
       "    </tr>\n",
       "    <tr>\n",
       "      <th>2</th>\n",
       "      <td>3.0</td>\n",
       "      <td>3.0</td>\n",
       "      <td>6.0</td>\n",
       "      <td>9.0</td>\n",
       "    </tr>\n",
       "    <tr>\n",
       "      <th>3</th>\n",
       "      <td>4.0</td>\n",
       "      <td>4.0</td>\n",
       "      <td>8.0</td>\n",
       "      <td>12.0</td>\n",
       "    </tr>\n",
       "    <tr>\n",
       "      <th>4</th>\n",
       "      <td>5.0</td>\n",
       "      <td>5.0</td>\n",
       "      <td>10.0</td>\n",
       "      <td>15.0</td>\n",
       "    </tr>\n",
       "  </tbody>\n",
       "</table>\n",
       "</div>"
      ],
      "text/plain": [
       "     x   y1    y2    y3\n",
       "0  1.0  1.0   2.0   3.0\n",
       "1  2.0  2.0   4.0   6.0\n",
       "2  3.0  3.0   6.0   9.0\n",
       "3  4.0  4.0   8.0  12.0\n",
       "4  5.0  5.0  10.0  15.0"
      ]
     },
     "execution_count": 41,
     "metadata": {},
     "output_type": "execute_result"
    }
   ],
   "source": [
    "#ii append list along the rows\n",
    "row1=[(3,3,6,9)]\n",
    "row2=[(4,4,8,12)]\n",
    "row3=[(5,5,10,15)]\n",
    "\n",
    "#you need to assign column names to the list and also create a DataFrame before appending\n",
    "#remember to specify column names\n",
    "df_temp=pd.DataFrame(row1+row2+row3,columns=['x','y1','y2','y3'])\n",
    "#remember to add the parameter ignore_index=True to not mess up the index increments\n",
    "df4=df4.append(df_temp, ignore_index=True)\n",
    "df4"
   ]
  },
  {
   "cell_type": "code",
   "execution_count": 42,
   "metadata": {},
   "outputs": [],
   "source": [
    "#iii append list along the column\n"
   ]
  },
  {
   "cell_type": "markdown",
   "metadata": {},
   "source": [
    "#### Common troubleshooting\n",
    "\n",
    "1. Unsuitable data types:\n",
    "    - check data types using df.info()\n",
    "    - change data types using df.astype().The common choices are: object, int64, float64, bool, datetime64, timedelta[ns], category\n",
    "\n",
    "2. Changes to pandas dataframe does not take effect:\n",
    "    - set the inplace parameter to true (e.g., df.dropna(inplace=True, axis=1))\n",
    "    - set the changes to the dataframe variable (e.g., df=df.dropna(axis=1))\n",
    "\n",
    "3. Resampling method in time-series data does not work:\n",
    "    - be sure to set the date column datatype to datetime64 (i.e., df.Date.astype('datetime64', inplace=True).\n",
    "    - alternatvely, you may parse the date column when you first import the data (see section 4c2 above).\n",
    "    - when using the resampling method, specify the aggregation method as well (e.g., mean(), sum(), etc.)\n",
    "    \n",
    "4. Appending data to an existing DataFrame:\n",
    "    - make sure that the data type is a dataframe or a series.\n",
    "    - remember to specify how the data is appended, whether along the row or along the column.\n",
    "    - see #2."
   ]
  },
  {
   "cell_type": "markdown",
   "metadata": {},
   "source": [
    "    \n",
    "#### 5. Data modeling <a name=\"section5\"></a>\n",
    "- For a selection of machine learning models in Scikitlearn, go to: https://scikit-learn.org/stable/tutorial/machine_learning_map/index.html\n",
    "- Some considerations:\n",
    "    - What models to use? classification and regression\n",
    "    - Format data accordingly: normalize, reshape, etc.\n",
    "    - Change data types accordingly.\n",
    "    - Use the appropriate metrics. \n",
    "    - Evaluate data for precision and accuracy.\n",
    "    - Avoid using neural network model if you have very little datasets. This will lead to overfitting.\n",
    "    - Consider data augmentation or using pretrained model if you have little datasets.\n",
    "    \n",
    "a. Data preprocessing: \n",
    "    - e.g., normalization\n",
    "    - Dimensionality reduction to remove redundant inputs\n",
    "    - Examine correlation between inputs (correlation matrix using heatmap)\n",
    "    \n",
    "b. Fit data using Scikitlearn\n",
    "    - Dimensionality reduction using pca. Generating the Scree plot.\n",
    "    - Classification model (e.g., Naive Bayes)\n",
    "    - Regression model\n",
    "    \n",
    "c. Fit data using neural network models using keras frontend\n",
    "    - Neural network model\n",
    "    - Convolutional neural network\n",
    "    - Recurrent neural network\n",
    "    - Pretrained model\n",
    "    \n",
    "#### 6. Statistics  <a name=\"section6\"></a>\n",
    "    a. Common probability distributions [6, II-9]\n",
    "    Probability distribution describes how the values of a random variable is distributed.    \n",
    "\n",
    "Table 6.1. A summary of common probability distribution functions.  "
   ]
  },
  {
   "cell_type": "markdown",
   "metadata": {},
   "source": [
    "    b. Classical Statistics\n",
    "    c. Bayesian Statistics\n",
    "\n",
    "#### 7. Front-end <a name=\"section7\"></a>  \n",
    "    a. wxpython  \n",
    "    b. Flask\n",
    "    \n",
    "#### 8. Deployment <a name=\"section8\"></a>\n",
    "    a. Pypi\n",
    "    b. Creating reproducible environments\n",
    "    \n",
    "#### 9. Importing data for practice from Keras and Scikitlearn <a name=\"section9\"></a>\n",
    "\n",
    "#### 10. Data Science <a name=\"section10\"></a>  \n",
    "    I. Learning types    \n",
    "      a. Supervised learning  \n",
    "      b. Unsupervised learning  \n",
    "      c. Reinforced learning  \n",
    "      d. Machine Learning  \n",
    "      e. Deep Learning  \n",
    "    \n",
    "    II. Topics  \n",
    "      a. Image processing    \n",
    "      b. Text processing (NLP): text cleaning, bag-of-words, TF-IDF         \n",
    "      c. Time-series analysis: ARMA/ARIMA, ARCH/GARCH, PACF, etc.    \n",
    "    \n",
    "    III. Data types  \n",
    "      a. Regression  \n",
    "      b. Classification  \n",
    "\n",
    "#### 11. Functions, decorators, and Object Oriented Programming (OOP) <a name=\"section11\"></a>\n",
    "    a. Functions\n",
    "    b. Decorators\n",
    "    c. OOP\n",
    "    \n",
    "#### 12. Python best practice <a name=\"section12\"></a>\n",
    "    a. Implementing PEP8 using Atom and Sublime Text IDEs\n",
    "    b. Tips: OOP and Python Design patterns\n",
    "    c. Pythonic scripts\n",
    "    d. Functional programming\n",
    "    e. modules and packages\n",
    "\n",
    "#### 13. Summary: a general Data Science framework <a name=\"section13\"></a>  \n",
    "    a. Data Wrangling (Cleaning, formatting, organization)  \n",
    "    b. Data Transformation/normalization  \n",
    "    c. Data splitting into train, test, and validation set  \n",
    "    d. Data modeling  \n",
    "    e. Performance evaluation  \n",
    "    f. Deployment  \n",
    "    "
   ]
  },
  {
   "cell_type": "markdown",
   "metadata": {},
   "source": [
    "### References\n",
    "\n",
    "1. Generate links for TOC: https://community.atlassian.com/t5/Bitbucket-questions/How-to-write-a-table-of-contents-in-a-Readme-md/qaq-p/673363\n",
    "2. Managing Environment on Anaconda: https://conda.io/docs/user-guide/tasks/manage-environments.html\n",
    "3. Package repository for conda-forge: https://anaconda.org/conda-forge/repo  \n",
    "4. Package repository for pip: https://pypi.org/\n",
    "5. Marker symbols: https://matplotlib.org/api/markers_api.html#module-matplotlib.markers\n",
    "6. (a) HTML table generator: https://www.tablesgenerator.com/html_tables. (b) Markdown table generator: https://www.tablesgenerator.com/markdown_tables\n",
    "7. Chi-Yau, \"R Tutorial with Bayesian Statistics Using OpenBUGS\", 2012-015.\n",
    "8. Osvaldo Martin, Bayesian Analysis with Python\", Packt 2016.\n",
    "9. Bokeh plotting website: https://bokeh.pydata.org/en/latest/docs/user_guide/layout.html\n",
    "10. Pandas Merge, Join, and Concatenate: https://pandas.pydata.org/pandas-docs/stable/merging.html"
   ]
  }
 ],
 "metadata": {
  "kernelspec": {
   "display_name": "Python 3",
   "language": "python",
   "name": "python3"
  },
  "language_info": {
   "codemirror_mode": {
    "name": "ipython",
    "version": 3
   },
   "file_extension": ".py",
   "mimetype": "text/x-python",
   "name": "python",
   "nbconvert_exporter": "python",
   "pygments_lexer": "ipython3",
   "version": "3.5.4"
  },
  "widgets": {
   "state": {},
   "version": "1.1.2"
  }
 },
 "nbformat": 4,
 "nbformat_minor": 1
}
